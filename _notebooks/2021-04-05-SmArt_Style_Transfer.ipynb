{
 "cells": [
  {
   "cell_type": "markdown",
   "id": "fresh-corpus",
   "metadata": {},
   "source": [
    "# \"SmArt Style Transfer\"\n",
    "> \"Generate Art from your pictures and preserve details.\"\n",
    "\n",
    "- author: Jae Kim\n",
    "- toc: false\n",
    "- branch: master\n",
    "- badges: true\n",
    "- comments: true\n",
    "- categories: [Style transfer, PyTorch, Segmentation]\n",
    "- image: https://res.cloudinary.com/dbxctsqiw/image/upload/v1617582728/blog/mse_wwfwhm.png\n",
    "- hide: false\n",
    "\n",
    "// width of the content area\n",
    "// can be set as \"px\" or \"%\"\n",
    "$content-width:    70%;\n",
    "$on-palm:          70%;\n",
    "$on-laptop:        70%;\n",
    "$on-medium:        70%;\n",
    "$on-large:         70%;"
   ]
  },
  {
   "cell_type": "markdown",
   "id": "approved-jenny",
   "metadata": {},
   "source": [
    "# Motivation"
   ]
  },
  {
   "cell_type": "markdown",
   "id": "simple-stake",
   "metadata": {},
   "source": [
    "Style transfer algorithm allows sylisation of any picture with the styles of famous masterpieces. This algorithm produces especially good looking output when used on landscape pictures.\n",
    "<img src=\"https://res.cloudinary.com/dbxctsqiw/image/upload/v1617573371/SmArt/213f7642f6e0111a6bd670f182305d7ffbf4305eaa7aec298762b624_mgocqr.jpg\">\n",
    "<img src=\"https://res.cloudinary.com/dbxctsqiw/image/upload/v1617573223/SmArt/style_content_ufu5rm.png\">\n",
    "\n",
    "Although this style transfer algorithm is impressive, it has one major limitation. Because the details of the original picture get blurred, facial features often become blurred to the point where it is difficult to recognise the person. Often, the identities of the people are the most important contents of the picture and the lack of ability of the algorithm to preserve them may prevent more people to use the algorithm.\n",
    "\n",
    "<img src=\"https://res.cloudinary.com/dbxctsqiw/image/upload/v1617629916/SmArt/tiffany_movie_bgzfzf.png\">\n",
    "\n",
    "As seen in the above example, the style transfer worked very well. However, the girl's face certainly does not look very attractive. "
   ]
  },
  {
   "cell_type": "markdown",
   "id": "earlier-event",
   "metadata": {},
   "source": [
    "# SmArt Style Transfer\n",
    "SmArt style transfer uses PyTorch segmentation model to identify human objects and recover the details.\n",
    "\n",
    "<img src=\"https://res.cloudinary.com/dbxctsqiw/image/upload/v1617642724/SmArt/manchester_seg_am3lfr.png\" width=\"1200\">\n",
    "\n",
    "Users can choose which object to restore.\n",
    "\n",
    "<img src=\"https://res.cloudinary.com/dbxctsqiw/image/upload/v1617643133/SmArt/seg_outcome_manchester_brzvlk.png\" width=\"1200\">\n",
    "\n"
   ]
  },
  {
   "cell_type": "markdown",
   "id": "provincial-marble",
   "metadata": {},
   "source": [
    "# A Step Further - Transformation GIF\n",
    "\n",
    "Style transfer algorithms focuses on visual impact. To make the impact as strong as possible, SmArt style transfer also provides a transformation gif. It is saved in between epochs and do not add any significant computational burden.\n",
    "\n",
    "<img src=\"https://res.cloudinary.com/dbxctsqiw/image/upload/v1617644511/SmArt/oxford-starry-full-3-1_1_1_es7lhj.gif\" width=\"1200\">\n"
   ]
  },
  {
   "cell_type": "markdown",
   "id": "actual-princeton",
   "metadata": {},
   "source": [
    "# How to use\n",
    "A streamlit app is developed to make SmArt simple to use.\n",
    "- Clone the [repo](https://github.com/disney-snoopy/SmArtTorch).\n",
    "- Run streamlit app with the following command in the repo folder.\n",
    "```bash\n",
    "streamlit run app_sidebar.py\n",
    "```"
   ]
  }
 ],
 "metadata": {
  "kernelspec": {
   "display_name": "Python 3",
   "language": "python",
   "name": "python3"
  },
  "language_info": {
   "codemirror_mode": {
    "name": "ipython",
    "version": 3
   },
   "file_extension": ".py",
   "mimetype": "text/x-python",
   "name": "python",
   "nbconvert_exporter": "python",
   "pygments_lexer": "ipython3",
   "version": "3.8.6"
  },
  "toc": {
   "base_numbering": 1,
   "nav_menu": {},
   "number_sections": true,
   "sideBar": true,
   "skip_h1_title": false,
   "title_cell": "Table of Contents",
   "title_sidebar": "Contents",
   "toc_cell": false,
   "toc_position": {},
   "toc_section_display": true,
   "toc_window_display": false
  },
  "varInspector": {
   "cols": {
    "lenName": 16,
    "lenType": 16,
    "lenVar": 40
   },
   "kernels_config": {
    "python": {
     "delete_cmd_postfix": "",
     "delete_cmd_prefix": "del ",
     "library": "var_list.py",
     "varRefreshCmd": "print(var_dic_list())"
    },
    "r": {
     "delete_cmd_postfix": ") ",
     "delete_cmd_prefix": "rm(",
     "library": "var_list.r",
     "varRefreshCmd": "cat(var_dic_list()) "
    }
   },
   "types_to_exclude": [
    "module",
    "function",
    "builtin_function_or_method",
    "instance",
    "_Feature"
   ],
   "window_display": false
  }
 },
 "nbformat": 4,
 "nbformat_minor": 5
}
