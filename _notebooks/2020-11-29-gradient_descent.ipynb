{
 "cells": [
  {
   "cell_type": "code",
   "execution_count": 1,
   "metadata": {
    "ExecuteTime": {
     "end_time": "2020-11-29T02:02:34.707354Z",
     "start_time": "2020-11-29T02:02:32.640842Z"
    }
   },
   "outputs": [
    {
     "name": "stdout",
     "output_type": "stream",
     "text": [
      "Requirement already satisfied: auto_tqdm in c:\\users\\bjk\\anaconda3\\envs\\visualisation\\lib\\site-packages (1.0.3)\n",
      "Requirement already satisfied: tqdm in c:\\users\\bjk\\anaconda3\\envs\\visualisation\\lib\\site-packages (from auto_tqdm) (4.51.0)\n",
      "Requirement already satisfied: environments-utils in c:\\users\\bjk\\anaconda3\\envs\\visualisation\\lib\\site-packages (from auto_tqdm) (1.0.2)\n",
      "Requirement already satisfied: humanize in c:\\users\\bjk\\anaconda3\\envs\\visualisation\\lib\\site-packages (from auto_tqdm) (3.1.0)\n",
      "Requirement already satisfied: setuptools in c:\\users\\bjk\\anaconda3\\envs\\visualisation\\lib\\site-packages (from humanize->auto_tqdm) (50.3.1.post20201107)\n"
     ]
    }
   ],
   "source": [
    "!pip install auto_tqdm"
   ]
  },
  {
   "cell_type": "code",
   "execution_count": 2,
   "metadata": {
    "ExecuteTime": {
     "end_time": "2020-11-29T02:02:36.329979Z",
     "start_time": "2020-11-29T02:02:34.709308Z"
    }
   },
   "outputs": [],
   "source": [
    "import numpy as np\n",
    "import pandas as pd\n",
    "import matplotlib.pyplot as plt\n",
    "import seaborn as sns\n",
    "import scipy.stats\n",
    "from auto_tqdm import tqdm\n",
    "import random"
   ]
  },
  {
   "cell_type": "markdown",
   "metadata": {},
   "source": [
    "### Normal Equation\n",
    "Gradient descent algorithm solves a convex problem that has a closed form solution, normal equation.\\\n",
    "Normal Equation:\n",
    "$$\n",
    "\\theta = (X^TX)^{-1}X^T \\vec{y}\n",
    "$$\n",
    "Below function solves normal equation to return the optimal parameters that achieve the smallest cost.\n",
    "\n",
    "- Computational Complexity\\\n",
    "When X is $N \\times K$ matrix.\\\n",
    "$X^{T}X$: $O(K^2N)$\\\n",
    "$X^TY$: $O(KN)$"
   ]
  },
  {
   "cell_type": "code",
   "execution_count": 3,
   "metadata": {
    "ExecuteTime": {
     "end_time": "2020-11-29T02:02:36.344933Z",
     "start_time": "2020-11-29T02:02:36.331967Z"
    }
   },
   "outputs": [],
   "source": [
    "class Normal_eq:\n",
    "    def __init__(self, intersect = True, order = 1):\n",
    "        self.intersect = intersect\n",
    "        self.order = order\n",
    "    def design_matrix(self, X):\n",
    "        if self.intersect:\n",
    "            dm = np.ones([X.shape[0], 1])\n",
    "            for i in range(1, self.order+1):\n",
    "                dm = np.hstack((dm, X**i))\n",
    "            self.dm = dm\n",
    "            return dm\n",
    "        else:\n",
    "            dm = X\n",
    "            for i in range(2, self.order+1):\n",
    "                dm = np.hstack((dm, X**i))\n",
    "            self.dm = dm\n",
    "            return dm  \n",
    "    def solve(self, X, y):\n",
    "        dm = self.design_matrix(X)\n",
    "        self.param = np.linalg.inv((dm.T @ dm)) @ dm.T @ y \n",
    "        return self.param\n",
    "    def pred(self, test_X):\n",
    "        dm = self.design_matrix(test_X)\n",
    "        return dm@(self.param)"
   ]
  },
  {
   "cell_type": "code",
   "execution_count": 4,
   "metadata": {
    "ExecuteTime": {
     "end_time": "2020-11-29T02:02:36.357898Z",
     "start_time": "2020-11-29T02:02:36.348922Z"
    }
   },
   "outputs": [],
   "source": [
    "num_sample = 15\n",
    "rng = np.random.RandomState(5)\n",
    "X_line = rng.uniform(0, 10, num_sample)[:, np.newaxis]\n",
    "y_line = 5* X_line - 12 + rng.normal(0, 1, num_sample)[:, np.newaxis]"
   ]
  },
  {
   "cell_type": "markdown",
   "metadata": {},
   "source": [
    "### Gradient Descent\n",
    "Gradient descent takes iterative approach to solving the regression problem. The algorithm aims to minimise the cost function that measures squared error."
   ]
  },
  {
   "cell_type": "code",
   "execution_count": 5,
   "metadata": {
    "ExecuteTime": {
     "end_time": "2020-11-29T02:02:36.567338Z",
     "start_time": "2020-11-29T02:02:36.360890Z"
    }
   },
   "outputs": [],
   "source": [
    "class Gradient_descent:\n",
    "    def __init__(self, lr = 0.01, lamda = 0.001, num_iter = 10000, intersect = True,\n",
    "                order = 1, batch_size =5):\n",
    "        self.lr = lr\n",
    "        self.num_iter = num_iter\n",
    "        self.order = order\n",
    "        self.intersect = intersect\n",
    "        self.batch_size = batch_size\n",
    "        self.lamda = lamda\n",
    "    def design_matrix(self, X):\n",
    "        if self.intersect:\n",
    "            dm = np.ones([X.shape[0], 1])\n",
    "            for i in range(1, self.order+1):\n",
    "                dm = np.hstack((dm, X ** i))\n",
    "            return dm\n",
    "        else:\n",
    "            dm = X\n",
    "            for i in range(2, self.order+1):\n",
    "                dm = np.hstack((dm, X**i))\n",
    "            return dm\n",
    "    def cost(self, X, y, theta):\n",
    "        dm = self.design_matrix(X)\n",
    "        h = dm @ theta\n",
    "        j = np.square(h-y).mean()/2\n",
    "        return j\n",
    "    def cost_l2(self, X, y, theta):\n",
    "        dm = self.design_matrix(X)\n",
    "        h = dm @ theta\n",
    "        j = np.square(h[:,np.newaxis] - y).mean()/2 + (self.lamda * np.square(theta).sum())\n",
    "        return j\n",
    "    def z_normalisation(self,X):\n",
    "        dm = X\n",
    "        for i in range(2, self.order+1):\n",
    "            dm = np.hstack((dm, X**i))\n",
    "        mean = dm.mean(axis = 0)\n",
    "        std = dm.std(axis = 0)\n",
    "        dm = ((dm-mean)/std)\n",
    "        if self.intersect:\n",
    "            intersect = np.ones([dm.shape[0], 1])\n",
    "            dm = np.hstack((intersect, dm))\n",
    "            return dm\n",
    "        else:\n",
    "            return dm\n",
    "    def z_reverse(self, X, theta):\n",
    "        dm = X\n",
    "        for i in range(2, self.order+1):\n",
    "            dm = np.hstack((dm, X**i))\n",
    "        mean = dm.mean(axis = 0)\n",
    "        std = dm.std(axis = 0)   \n",
    "        if self.intersect:\n",
    "            mean = np.hstack((0, mean))\n",
    "            std = np.hstack((1, std))\n",
    "            theta = (theta * std) + mean\n",
    "            return theta\n",
    "        else:\n",
    "            theta = (theta * std) + mean\n",
    "            return theta\n",
    "    def batch_learn(self, X, y):\n",
    "        dm = self.design_matrix(X)\n",
    "        theta_hist = np.zeros([1,dm.shape[1]])\n",
    "        for i in range(self.num_iter):\n",
    "            h = dm @ theta_hist[-1][:, np.newaxis]\n",
    "            gradient = ((h - y) * dm).mean(axis = 0)\n",
    "            new_theta = theta_hist[-1] - (self.lr * gradient)\n",
    "            theta_hist = np.vstack((theta_hist, new_theta))\n",
    "        self.theta = theta_hist[-1]\n",
    "        self.theta_hist = theta_hist\n",
    "        return theta_hist[-1]\n",
    "    def stochastic_learn(self, X, y):\n",
    "        dm = self.design_matrix(X)\n",
    "        theta_hist = np.zeros([1,dm.shape[1]])\n",
    "        for i in range(self.num_iter):\n",
    "            row_index = np.random.choice(dm.shape[0], self.batch_size, replace=False)\n",
    "            h = dm[row_index] @ theta_hist[-1][:, np.newaxis]\n",
    "            gradient = ((h - y[row_index]) * dm[row_index]).mean(axis = 0)\n",
    "            new_theta = theta_hist[-1] - (self.lr * gradient)\n",
    "            theta_hist = np.vstack((theta_hist, new_theta))\n",
    "        self.theta = theta_hist[-1]\n",
    "        self.theta_hist = theta_hist\n",
    "        return theta_hist[-1]\n",
    "    def batch_scale(self, X, y):\n",
    "        dm = self.z_normalisation(X)\n",
    "        theta_hist = np.zeros([1,dm.shape[1]])\n",
    "        for i in range(self.num_iter):\n",
    "            h = dm @ theta_hist[-1][:, np.newaxis]\n",
    "            gradient = ((h - y) * dm).mean(axis = 0)\n",
    "            new_theta = theta_hist[-1] - (self.lr * gradient)\n",
    "            theta_hist = np.vstack((theta_hist, new_theta))\n",
    "        self.theta = self.z_reverse(X, theta_hist[-1])\n",
    "        return self.theta\n",
    "    def batch_ridge(self, X, y):\n",
    "        dm = self.z_normalisation(X)\n",
    "        theta_hist = np.zeros([1,dm.shape[1]])\n",
    "        for i in range(self.num_iter):\n",
    "            h = dm @ theta_hist[-1][:, np.newaxis]\n",
    "            gradient = ((h - y) * dm).mean(axis = 0)\n",
    "            new_theta = theta_hist[-1] - (self.lr * gradient)\n",
    "            theta_hist = np.vstack((theta_hist, new_theta))\n",
    "        theta = self.z_reverse(X, theta_hist[-1])\n",
    "        self.theta_history = theta_hist\n",
    "        self.theta = theta\n",
    "        return self.theta\n",
    "    def pred(self, test_X):\n",
    "        dm = self.design_matrix(test_X)\n",
    "        pred = dm @ self.theta"
   ]
  },
  {
   "cell_type": "markdown",
   "metadata": {},
   "source": [
    "- Sine wave"
   ]
  },
  {
   "cell_type": "code",
   "execution_count": 6,
   "metadata": {
    "ExecuteTime": {
     "end_time": "2020-11-29T02:02:36.580812Z",
     "start_time": "2020-11-29T02:02:36.569841Z"
    }
   },
   "outputs": [],
   "source": [
    "sample_size = 10\n",
    "rng = np.random.RandomState(3)\n",
    "X_sine = rng.uniform(0, 10, sample_size)[:, np.newaxis]\n",
    "y_sine = np.sin(X_sine) + rng.normal(0, 0.1, sample_size)[:,np.newaxis]\n",
    "x_domain = np.arange(0, 10, 0.01)[:, np.newaxis]"
   ]
  },
  {
   "cell_type": "code",
   "execution_count": 7,
   "metadata": {
    "ExecuteTime": {
     "end_time": "2020-11-29T02:02:36.790252Z",
     "start_time": "2020-11-29T02:02:36.583804Z"
    }
   },
   "outputs": [
    {
     "data": {
      "text/plain": [
       "<matplotlib.collections.PathCollection at 0x24cd7d17448>"
      ]
     },
     "execution_count": 7,
     "metadata": {},
     "output_type": "execute_result"
    },
    {
     "data": {
      "image/png": "[encoded data removed]",
      "text/plain": [
       "<Figure size 432x288 with 1 Axes>"
      ]
     },
     "metadata": {
      "needs_background": "light"
     },
     "output_type": "display_data"
    }
   ],
   "source": [
    "plt.scatter(X_sine, y_sine)"
   ]
  },
  {
   "cell_type": "markdown",
   "metadata": {},
   "source": [
    "- Classification data"
   ]
  },
  {
   "cell_type": "code",
   "execution_count": 10,
   "metadata": {
    "ExecuteTime": {
     "end_time": "2020-11-29T02:03:00.906427Z",
     "start_time": "2020-11-29T02:03:00.142467Z"
    }
   },
   "outputs": [
    {
     "data": {
      "image/png": "[encoded data removed]",
      "text/plain": [
       "<Figure size 432x288 with 1 Axes>"
      ]
     },
     "metadata": {
      "needs_background": "light"
     },
     "output_type": "display_data"
    }
   ],
   "source": [
    "from sklearn.datasets import make_blobs\n",
    "X_blob, y_blob = make_blobs(100, 2, centers=2, random_state=2, cluster_std=1.5)\n",
    "plt.scatter(X_blob[:, 0], X_blob[:, 1], c=y_blob, s=50, cmap='RdBu')\n",
    "x_domain = np.arange(-10, 10, 0.1)"
   ]
  },
  {
   "cell_type": "code",
   "execution_count": 11,
   "metadata": {
    "ExecuteTime": {
     "end_time": "2020-11-29T02:03:01.024133Z",
     "start_time": "2020-11-29T02:03:00.981191Z"
    }
   },
   "outputs": [],
   "source": [
    "class Batch_gd:\n",
    "    def __init__(self, lr=0.01, num_iter=10000, order = 1):\n",
    "        self.lr = lr\n",
    "        self.num_iter = num_iter\n",
    "        self.order = order\n",
    "    def design_matrix(self, X):\n",
    "        dm = np.ones([X.shape[0], 1])\n",
    "        for i in range(1, self.order + 1):\n",
    "            dm = np.hstack((dm, X**i))\n",
    "        return dm\n",
    "    def learn(self, X, y):\n",
    "        #initialisng parameters\n",
    "        dm = self.design_matrix(X)\n",
    "        theta_hist = np.zeros([1, dm.shape[1]])\n",
    "        \n",
    "        for i in tqdm(range(self.num_iter)):\n",
    "            #hypothesis\n",
    "            h = dm @ theta_hist[-1]\n",
    "            #gradient\n",
    "            g = ((h[:, np.newaxis] - y) * dm).mean(axis = 0)\n",
    "            #New theta\n",
    "            new_theta = theta_hist[-1] - (self.lr * g)\n",
    "            theta_hist = np.vstack((theta_hist, new_theta))\n",
    "        self.theta = theta_hist[-1]\n",
    "        return theta_hist[-1]\n",
    "    def learn_cost(self, X, y):\n",
    "        #initialisng parameters\n",
    "        dm = self.design_matrix(X)\n",
    "        theta_hist = np.zeros([1, dm.shape[1]])\n",
    "        cost_hist = []\n",
    "        for i in tqdm(range(self.num_iter)):\n",
    "            #hypothesis\n",
    "            h = dm @ theta_hist[-1]\n",
    "            #gradient\n",
    "            g = ((h[:, np.newaxis] - y) * dm).mean(axis = 0)\n",
    "            #Cost calculation\n",
    "            j = np.square(h[:, np.newaxis] - y).mean()/2\n",
    "            cost_hist.append(j)\n",
    "            #New theta\n",
    "            new_theta = theta_hist[-1] - (self.lr * g)\n",
    "            theta_hist = np.vstack((theta_hist, new_theta))\n",
    "        self.theta = theta_hist[-1]\n",
    "        self.theta_hist = theta_hist\n",
    "        self.cost_hist = cost_hist[0] + cost_hist\n",
    "        return self.theta_hist, self.cost_hist\n",
    "    def predict(self, training_x):\n",
    "        dm = self.design_matrix(training_x)\n",
    "        pred = dm@self.theta\n",
    "        return pred[:,np.newaxis]"
   ]
  },
  {
   "cell_type": "code",
   "execution_count": 12,
   "metadata": {
    "ExecuteTime": {
     "end_time": "2020-11-29T02:03:01.739219Z",
     "start_time": "2020-11-29T02:03:01.674427Z"
    }
   },
   "outputs": [],
   "source": [
    "class Stochastic_gd:\n",
    "    def __init__(self, lr=0.01, num_iter=10000, order = 1, batch_size = 5):\n",
    "        self.lr = lr\n",
    "        self.num_iter = num_iter\n",
    "        self.order = order\n",
    "        self.batch_size = batch_size\n",
    "    def design_matrix(self, X):\n",
    "        #Constructing feature matrix, taking polynomial order into account.\n",
    "        dm = np.ones([X.shape[0], 1])\n",
    "        for i in range(1, self.order + 1):\n",
    "            dm = np.hstack((dm, X**i))        \n",
    "        return dm\n",
    "    def cost()\n",
    "    def learn(self, X, y):\n",
    "        #initialisng parameters\n",
    "        dm = self.design_matrix(X)\n",
    "        theta_hist = np.zeros([1, dm.shape[1]])      \n",
    "        for i in tqdm(range(self.num_iter)):\n",
    "            #Randomly picking samples for gradient calculation.\n",
    "            #Initially, np.random.choice function was used. But random.sample function is much faster in execution.\n",
    "            batch_index = random.sample(range(X.shape[0]), self.batch_size)\n",
    "            #hypothesis and gradient\n",
    "            h = dm[batch_index] @ theta_hist[-1]\n",
    "            g = ((h[:,np.newaxis] - y[batch_index]) * dm[batch_index]).mean(axis = 0)\n",
    "            #new theta\n",
    "            new_theta = theta_hist[-1] - (self.lr * g)\n",
    "            theta_hist = np.vstack((theta_hist, new_theta))\n",
    "        self.theta = theta_hist[-1]\n",
    "        self.theta_hist = theta_hist\n",
    "        return self.theta\n",
    "    def learn_cost(self, X, y):\n",
    "        #initialisng parameters\n",
    "        dm = self.design_matrix(X)\n",
    "        theta_hist = np.zeros([1, dm.shape[1]])      \n",
    "        cost_hist = []\n",
    "        for i in tqdm(range(self.num_iter)):\n",
    "            #Randomly picking samples for gradient calculation.\n",
    "            #Initially, np.random.choice function was used. But random.sample function is much faster in execution.\n",
    "            batch_index = random.sample(range(X.shape[0]), self.batch_size)\n",
    "            #hypothesis and gradient\n",
    "            h = dm[batch_index] @ theta_hist[-1]\n",
    "            g = ((h[:,np.newaxis] - y[batch_index]) * dm[batch_index]).mean(axis = 0)\n",
    "            #cost calculation\n",
    "            h_all = dm @ theta_hist[-1]\n",
    "            j = np.square(h_all - y).mean()/2\n",
    "            #new theta\n",
    "            new_theta = theta_hist[-1] - (self.lr * g)\n",
    "            theta_hist = np.vstack((theta_hist, new_theta))\n",
    "            #new cost\n",
    "            cost_hist.append(j)\n",
    "        self.theta = theta_hist[-1]\n",
    "        self.theta_hist = theta_hist\n",
    "        self.cost_hist = cost_hist[0] + cost_hist\n",
    "        return self.theta_hist, self.cost_hist\n",
    "    def predict(self, training_X):\n",
    "        dm = self.design_matrix(training_X)\n",
    "        pred = dm @ self.theta\n",
    "        return pred[:,np.newaxis]"
   ]
  },
  {
   "cell_type": "markdown",
   "metadata": {},
   "source": [
    "$$\n",
    "\\begin{align}\n",
    "h(\\theta^TX) &= g(\\theta^TX)\\\\\n",
    "& = \\frac{1}{1+e^{-\\theta^TX}}\n",
    "\\end{align}\n",
    "$$"
   ]
  },
  {
   "cell_type": "markdown",
   "metadata": {},
   "source": [
    "$$\n",
    "\\begin{align}\n",
    "\\theta := \\theta + \\alpha(\\bigl(y - h(\\theta^TX)\\bigr))X\n",
    "\\end{align}\n",
    "$$"
   ]
  },
  {
   "cell_type": "code",
   "execution_count": 13,
   "metadata": {
    "ExecuteTime": {
     "end_time": "2020-11-29T02:03:02.829337Z",
     "start_time": "2020-11-29T02:03:02.787927Z"
    }
   },
   "outputs": [],
   "source": [
    "class Logistic_regression:\n",
    "    def __init__(self, lr=0.01, num_iter= 10000, order = 1):\n",
    "        self.lr = lr\n",
    "        self.num_iter = num_iter\n",
    "        self.order = order\n",
    "    def design_matrix(self, X):\n",
    "        dm = np.ones([X.shape[0], 1])\n",
    "        for i in range(1, self.order + 1):\n",
    "            dm = np.hstack((dm, X**i))\n",
    "        return dm\n",
    "    def sigmoid(self, x):\n",
    "        return 1/(1+np.exp(-x))\n",
    "    def learn(self, x, y):\n",
    "        #initialisng parameters\n",
    "        dm = self.design_matrix(X)\n",
    "        theta_hist = np.zeros([1, dm.shape[1]])\n",
    "        for i in range(self.num_iter):\n",
    "            #hypothesis\n",
    "            h = self.sigmoid(dm@theta_hist[-1])\n",
    "            gradient = ((h - y)[:,np.newaxis] * dm).mean(axis = 0)\n",
    "            new_theta = theta_hist[-1] - (self.lr * gradient)\n",
    "            theta_hist = np.vstack((theta_hist, new_theta))\n",
    "        self.theta_hist = theta_hist\n",
    "        self.theta = theta_hist[-1]\n",
    "        return theta_hist[-1]\n",
    "    def predict(self, training_x):\n",
    "        dm = self.design_matrix(training_x)\n",
    "        h = self.sigmoid(dm @ self.theta)[:,np.newaxis]\n",
    "        prediction = []\n",
    "        for i in h:\n",
    "            if i<=0.5:\n",
    "                prediction.append(0)\n",
    "            else:\n",
    "                prediction.append(1)\n",
    "        self.prediction = prediction\n",
    "        return prediction\n",
    "    def validate(self, y):\n",
    "        validation = []\n",
    "        for i in range(len(y)):\n",
    "            if self.prediction[i] == y[i]:\n",
    "                validation.append(True)\n",
    "            else:\n",
    "                validation.append(False)\n",
    "        return np.mean(validation)"
   ]
  },
  {
   "cell_type": "markdown",
   "metadata": {},
   "source": [
    "### Batch vs stochastic"
   ]
  },
  {
   "cell_type": "code",
   "execution_count": 14,
   "metadata": {
    "ExecuteTime": {
     "end_time": "2020-11-29T02:03:03.765336Z",
     "start_time": "2020-11-29T02:03:03.569859Z"
    }
   },
   "outputs": [
    {
     "data": {
      "text/plain": [
       "<matplotlib.collections.PathCollection at 0x24cd95621c8>"
      ]
     },
     "execution_count": 14,
     "metadata": {},
     "output_type": "execute_result"
    },
    {
     "data": {
      "image/png": "[encoded data removed]",
      "text/plain": [
       "<Figure size 432x288 with 1 Axes>"
      ]
     },
     "metadata": {
      "needs_background": "light"
     },
     "output_type": "display_data"
    }
   ],
   "source": [
    "sample_size = 10\n",
    "X = np.random.uniform(0, 10, sample_size)\n",
    "X = X[:,np.newaxis]\n",
    "y = 3*X + 7 + np.random.normal(0, 1, [sample_size, 1])\n",
    "plt.scatter(X, y)"
   ]
  },
  {
   "cell_type": "code",
   "execution_count": 15,
   "metadata": {
    "ExecuteTime": {
     "end_time": "2020-11-29T02:03:03.974418Z",
     "start_time": "2020-11-29T02:03:03.970788Z"
    }
   },
   "outputs": [],
   "source": [
    "batch = Batch_gd()\n",
    "sto = Stochastic_gd()\n",
    "norm = Normal_eq()"
   ]
  },
  {
   "cell_type": "code",
   "execution_count": 16,
   "metadata": {
    "ExecuteTime": {
     "end_time": "2020-11-29T02:03:04.422617Z",
     "start_time": "2020-11-29T02:03:04.416595Z"
    }
   },
   "outputs": [],
   "source": [
    "sample_size = 1000\n",
    "X = np.random.uniform(0, 10, sample_size)\n",
    "X = X[:,np.newaxis]\n",
    "y = 3*X + 7 + np.random.normal(0, 1, [sample_size, 1])"
   ]
  },
  {
   "cell_type": "code",
   "execution_count": 17,
   "metadata": {
    "ExecuteTime": {
     "end_time": "2020-11-29T02:03:18.364783Z",
     "start_time": "2020-11-29T02:03:04.862908Z"
    }
   },
   "outputs": [
    {
     "data": {
      "application/vnd.jupyter.widget-view+json": {
       "model_id": "",
       "version_major": 2,
       "version_minor": 0
      },
      "text/plain": [
       "HBox(children=(HTML(value=''), FloatProgress(value=0.0, layout=Layout(flex='2'), max=10000.0), HTML(value=''))…"
      ]
     },
     "metadata": {},
     "output_type": "display_data"
    },
    {
     "data": {
      "application/vnd.jupyter.widget-view+json": {
       "model_id": "",
       "version_major": 2,
       "version_minor": 0
      },
      "text/plain": [
       "HBox(children=(HTML(value=''), FloatProgress(value=0.0, layout=Layout(flex='2'), max=10000.0), HTML(value=''))…"
      ]
     },
     "metadata": {},
     "output_type": "display_data"
    },
    {
     "data": {
      "application/vnd.jupyter.widget-view+json": {
       "model_id": "",
       "version_major": 2,
       "version_minor": 0
      },
      "text/plain": [
       "HBox(children=(HTML(value=''), FloatProgress(value=0.0, layout=Layout(flex='2'), max=10000.0), HTML(value=''))…"
      ]
     },
     "metadata": {},
     "output_type": "display_data"
    },
    {
     "data": {
      "application/vnd.jupyter.widget-view+json": {
       "model_id": "",
       "version_major": 2,
       "version_minor": 0
      },
      "text/plain": [
       "HBox(children=(HTML(value=''), FloatProgress(value=0.0, layout=Layout(flex='2'), max=10000.0), HTML(value=''))…"
      ]
     },
     "metadata": {},
     "output_type": "display_data"
    },
    {
     "data": {
      "application/vnd.jupyter.widget-view+json": {
       "model_id": "",
       "version_major": 2,
       "version_minor": 0
      },
      "text/plain": [
       "HBox(children=(HTML(value=''), FloatProgress(value=0.0, layout=Layout(flex='2'), max=10000.0), HTML(value=''))…"
      ]
     },
     "metadata": {},
     "output_type": "display_data"
    },
    {
     "data": {
      "application/vnd.jupyter.widget-view+json": {
       "model_id": "",
       "version_major": 2,
       "version_minor": 0
      },
      "text/plain": [
       "HBox(children=(HTML(value=''), FloatProgress(value=0.0, layout=Layout(flex='2'), max=10000.0), HTML(value=''))…"
      ]
     },
     "metadata": {},
     "output_type": "display_data"
    },
    {
     "name": "stdout",
     "output_type": "stream",
     "text": [
      "1 loop, best of 5: 734 ms per loop\n"
     ]
    },
    {
     "data": {
      "application/vnd.jupyter.widget-view+json": {
       "model_id": "",
       "version_major": 2,
       "version_minor": 0
      },
      "text/plain": [
       "HBox(children=(HTML(value=''), FloatProgress(value=0.0, layout=Layout(flex='2'), max=10000.0), HTML(value=''))…"
      ]
     },
     "metadata": {},
     "output_type": "display_data"
    },
    {
     "data": {
      "application/vnd.jupyter.widget-view+json": {
       "model_id": "",
       "version_major": 2,
       "version_minor": 0
      },
      "text/plain": [
       "HBox(children=(HTML(value=''), FloatProgress(value=0.0, layout=Layout(flex='2'), max=10000.0), HTML(value=''))…"
      ]
     },
     "metadata": {},
     "output_type": "display_data"
    },
    {
     "data": {
      "application/vnd.jupyter.widget-view+json": {
       "model_id": "",
       "version_major": 2,
       "version_minor": 0
      },
      "text/plain": [
       "HBox(children=(HTML(value=''), FloatProgress(value=0.0, layout=Layout(flex='2'), max=10000.0), HTML(value=''))…"
      ]
     },
     "metadata": {},
     "output_type": "display_data"
    },
    {
     "data": {
      "application/vnd.jupyter.widget-view+json": {
       "model_id": "",
       "version_major": 2,
       "version_minor": 0
      },
      "text/plain": [
       "HBox(children=(HTML(value=''), FloatProgress(value=0.0, layout=Layout(flex='2'), max=10000.0), HTML(value=''))…"
      ]
     },
     "metadata": {},
     "output_type": "display_data"
    },
    {
     "data": {
      "application/vnd.jupyter.widget-view+json": {
       "model_id": "",
       "version_major": 2,
       "version_minor": 0
      },
      "text/plain": [
       "HBox(children=(HTML(value=''), FloatProgress(value=0.0, layout=Layout(flex='2'), max=10000.0), HTML(value=''))…"
      ]
     },
     "metadata": {},
     "output_type": "display_data"
    },
    {
     "data": {
      "application/vnd.jupyter.widget-view+json": {
       "model_id": "",
       "version_major": 2,
       "version_minor": 0
      },
      "text/plain": [
       "HBox(children=(HTML(value=''), FloatProgress(value=0.0, layout=Layout(flex='2'), max=10000.0), HTML(value=''))…"
      ]
     },
     "metadata": {},
     "output_type": "display_data"
    },
    {
     "name": "stdout",
     "output_type": "stream",
     "text": [
      "1 loop, best of 5: 750 ms per loop\n",
      "The slowest run took 198.66 times longer than the fastest. This could mean that an intermediate result is being cached.\n",
      "10000 loops, best of 5: 49.2 µs per loop\n"
     ]
    }
   ],
   "source": [
    "%timeit batch.learn(X, y)\n",
    "%timeit sto.learn(X, y)\n",
    "%timeit norm.solve(X, y)"
   ]
  },
  {
   "cell_type": "markdown",
   "metadata": {},
   "source": [
    "Normal equation provides the shortest computation time for small dataset. For small sample size, the execution time is shorter for batch gradient descent. This is because the sampling process for stochastic gradient takes longer than algebraically computing gradient for entire samples for batch gradient descent."
   ]
  },
  {
   "cell_type": "code",
   "execution_count": 18,
   "metadata": {
    "ExecuteTime": {
     "end_time": "2020-11-29T02:03:19.340240Z",
     "start_time": "2020-11-29T02:03:19.326278Z"
    }
   },
   "outputs": [],
   "source": [
    "sample_size = 10**5\n",
    "X = np.random.uniform(0, 10, sample_size)\n",
    "X = X[:,np.newaxis]\n",
    "y = 3*X + 7 + np.random.normal(0, 1, [sample_size, 1])"
   ]
  },
  {
   "cell_type": "code",
   "execution_count": 19,
   "metadata": {
    "ExecuteTime": {
     "end_time": "2020-11-29T02:04:33.110916Z",
     "start_time": "2020-11-29T02:03:20.161078Z"
    },
    "scrolled": true
   },
   "outputs": [
    {
     "data": {
      "application/vnd.jupyter.widget-view+json": {
       "model_id": "",
       "version_major": 2,
       "version_minor": 0
      },
      "text/plain": [
       "HBox(children=(HTML(value=''), FloatProgress(value=0.0, layout=Layout(flex='2'), max=10000.0), HTML(value=''))…"
      ]
     },
     "metadata": {},
     "output_type": "display_data"
    },
    {
     "name": "stdout",
     "output_type": "stream",
     "text": [
      "Wall time: 1min 11s\n"
     ]
    },
    {
     "data": {
      "application/vnd.jupyter.widget-view+json": {
       "model_id": "",
       "version_major": 2,
       "version_minor": 0
      },
      "text/plain": [
       "HBox(children=(HTML(value=''), FloatProgress(value=0.0, layout=Layout(flex='2'), max=10000.0), HTML(value=''))…"
      ]
     },
     "metadata": {},
     "output_type": "display_data"
    },
    {
     "name": "stdout",
     "output_type": "stream",
     "text": [
      "Wall time: 1.18 s\n",
      "Wall time: 3.99 ms\n"
     ]
    },
    {
     "data": {
      "text/plain": [
       "array([[6.99868945],\n",
       "       [3.00109605]])"
      ]
     },
     "execution_count": 19,
     "metadata": {},
     "output_type": "execute_result"
    }
   ],
   "source": [
    "%time batch.learn(X, y)\n",
    "%time sto.learn(X, y)\n",
    "%time norm.solve(X, y)"
   ]
  },
  {
   "cell_type": "markdown",
   "metadata": {},
   "source": [
    "As the sample size grows, stochastic algorithm becomes much faster than batch algorithm. For the dataset with only one feature type (dm = k x 1), normal equation is still faster than iterative algorithms."
   ]
  },
  {
   "cell_type": "markdown",
   "metadata": {},
   "source": [
    "### 2D visualisation"
   ]
  },
  {
   "cell_type": "code",
   "execution_count": 32,
   "metadata": {
    "ExecuteTime": {
     "end_time": "2020-11-29T02:05:11.641953Z",
     "start_time": "2020-11-29T02:05:11.396605Z"
    }
   },
   "outputs": [
    {
     "data": {
      "text/plain": [
       "<matplotlib.collections.PathCollection at 0x24cd9f89c08>"
      ]
     },
     "execution_count": 32,
     "metadata": {},
     "output_type": "execute_result"
    },
    {
     "data": {
      "image/png": "[encoded data removed]",
      "text/plain": [
       "<Figure size 432x288 with 1 Axes>"
      ]
     },
     "metadata": {
      "needs_background": "light"
     },
     "output_type": "display_data"
    }
   ],
   "source": [
    "sample_size = 50\n",
    "X = np.random.uniform(0, 10, sample_size)\n",
    "X = X[:,np.newaxis]\n",
    "y = 49*X + 1204 + np.random.normal(0, 50, [sample_size, 1])\n",
    "plt.scatter(X, y)"
   ]
  },
  {
   "cell_type": "code",
   "execution_count": 33,
   "metadata": {
    "ExecuteTime": {
     "end_time": "2020-11-29T02:05:12.842772Z",
     "start_time": "2020-11-29T02:05:12.836754Z"
    }
   },
   "outputs": [],
   "source": [
    "batch = Batch_gd()\n",
    "batch.lr = 0.002\n",
    "sto = Stochastic_gd()\n",
    "sto.lr = 0.002\n",
    "norm = Normal_eq()"
   ]
  },
  {
   "cell_type": "code",
   "execution_count": 34,
   "metadata": {
    "ExecuteTime": {
     "end_time": "2020-11-29T02:05:14.910347Z",
     "start_time": "2020-11-29T02:05:13.270734Z"
    }
   },
   "outputs": [
    {
     "data": {
      "application/vnd.jupyter.widget-view+json": {
       "model_id": "",
       "version_major": 2,
       "version_minor": 0
      },
      "text/plain": [
       "HBox(children=(HTML(value=''), FloatProgress(value=0.0, layout=Layout(flex='2'), max=10000.0), HTML(value=''))…"
      ]
     },
     "metadata": {},
     "output_type": "display_data"
    },
    {
     "data": {
      "application/vnd.jupyter.widget-view+json": {
       "model_id": "",
       "version_major": 2,
       "version_minor": 0
      },
      "text/plain": [
       "HBox(children=(HTML(value=''), FloatProgress(value=0.0, layout=Layout(flex='2'), max=10000.0), HTML(value=''))…"
      ]
     },
     "metadata": {},
     "output_type": "display_data"
    }
   ],
   "source": [
    "batch_theta, batch_cost = batch.learn_cost(X, y)\n",
    "sto_theta, sto_cost = sto.learn_cost(X, y)"
   ]
  },
  {
   "cell_type": "code",
   "execution_count": 35,
   "metadata": {
    "ExecuteTime": {
     "end_time": "2020-11-29T02:05:15.262405Z",
     "start_time": "2020-11-29T02:05:15.257419Z"
    }
   },
   "outputs": [],
   "source": [
    "x_domain = np.arange(0, 10, 0.01)[:,np.newaxis]\n",
    "batch_pred = batch.predict(x_domain)\n",
    "sto_pred = sto.predict(x_domain)"
   ]
  },
  {
   "cell_type": "code",
   "execution_count": 36,
   "metadata": {
    "ExecuteTime": {
     "end_time": "2020-11-29T02:05:15.836868Z",
     "start_time": "2020-11-29T02:05:15.614463Z"
    }
   },
   "outputs": [
    {
     "data": {
      "text/plain": [
       "<matplotlib.legend.Legend at 0x24cda014c08>"
      ]
     },
     "execution_count": 36,
     "metadata": {},
     "output_type": "execute_result"
    },
    {
     "data": {
      "image/png": "[encoded data removed]",
      "text/plain": [
       "<Figure size 720x360 with 1 Axes>"
      ]
     },
     "metadata": {
      "needs_background": "light"
     },
     "output_type": "display_data"
    }
   ],
   "source": [
    "plt.figure(figsize=(10, 5))\n",
    "plt.scatter(X, y, color = 'grey')\n",
    "plt.plot(x_domain, batch_pred, color = 'red', lw = 5, label = 'Batch')\n",
    "plt.plot(x_domain, sto_pred, '--', color = 'green', lw = 5, label = 'Stochastic')\n",
    "plt.text(3.5, 1300, 'Batch -->intersect: %.3f, gradient: %.3f' %(batch_theta[-1][0], batch_theta[-1][1]), fontsize = 13)\n",
    "plt.text(3.5, 1250, 'Stochastic -->intersect: %.3f, gradient: %.3f' %(sto_theta[-1][0], sto_theta[-1][1]), fontsize = 13)\n",
    "plt.title('Gradient descent result')\n",
    "plt.legend(fontsize = 14)"
   ]
  },
  {
   "cell_type": "code",
   "execution_count": 42,
   "metadata": {
    "ExecuteTime": {
     "end_time": "2020-11-29T02:06:49.991119Z",
     "start_time": "2020-11-29T02:06:48.832666Z"
    }
   },
   "outputs": [
    {
     "data": {
      "text/plain": [
       "<matplotlib.legend.Legend at 0x24cdc56a988>"
      ]
     },
     "execution_count": 42,
     "metadata": {},
     "output_type": "execute_result"
    },
    {
     "data": {
      "image/png": "[encoded data removed]",
      "text/plain": [
       "<Figure size 1080x1080 with 6 Axes>"
      ]
     },
     "metadata": {
      "needs_background": "light"
     },
     "output_type": "display_data"
    }
   ],
   "source": [
    "fig, ax = plt.subplots(3,2, figsize =(15, 15))\n",
    "for i in range(0, 10001, 2000):\n",
    "    ax[0,0].plot(x_domain, batch_theta[i][0]+(batch_theta[i][1]*x_domain), label = 'Iteration: %d' %i)\n",
    "    ax[0,1].plot(x_domain, sto_theta[i][0]+(sto_theta[i][1]*x_domain), label = 'Iteration: %d' %i)\n",
    "ax[0,0].set_title('Batch')\n",
    "ax[0,0].legend()\n",
    "ax[0,1].set_title('Stochastic')\n",
    "ax[0,1].legend()\n",
    "ax[1, 0].plot(batch_theta[:,0], label = 'Intersect')\n",
    "ax[1, 0].plot(batch_theta[:,1], label = 'Gradient')\n",
    "ax[1, 0].set_title('Batch Theta')\n",
    "ax[1, 1].plot(sto_theta[:,0], label = 'Intersect')\n",
    "ax[1, 1].plot(sto_theta[:,1], label = 'Gradient')\n",
    "ax[1, 1].set_title('Stochastic Theta')\n",
    "ax[2, 0].plot(batch_cost, label = 'Batch')\n",
    "ax[2, 0].plot(sto_cost, label = 'Stochastic')\n",
    "ax[2, 0].set_title('Cost')\n",
    "ax[2, 0].legend()"
   ]
  },
  {
   "cell_type": "markdown",
   "metadata": {},
   "source": [
    "### 3d visualisation"
   ]
  },
  {
   "cell_type": "code",
   "execution_count": 43,
   "metadata": {
    "ExecuteTime": {
     "end_time": "2020-11-29T02:07:15.852289Z",
     "start_time": "2020-11-29T02:07:15.846305Z"
    }
   },
   "outputs": [
    {
     "data": {
      "text/plain": [
       "array([1202.13282629,   48.58819369])"
      ]
     },
     "execution_count": 43,
     "metadata": {},
     "output_type": "execute_result"
    }
   ],
   "source": [
    "batch_theta[-1]"
   ]
  },
  {
   "cell_type": "code",
   "execution_count": null,
   "metadata": {},
   "outputs": [],
   "source": []
  }
 ],
 "metadata": {
  "kernelspec": {
   "display_name": "Python 3",
   "language": "python",
   "name": "python3"
  },
  "language_info": {
   "codemirror_mode": {
    "name": "ipython",
    "version": 3
   },
   "file_extension": ".py",
   "mimetype": "text/x-python",
   "name": "python",
   "nbconvert_exporter": "python",
   "pygments_lexer": "ipython3",
   "version": "3.7.9"
  },
  "toc": {
   "base_numbering": 1,
   "nav_menu": {},
   "number_sections": true,
   "sideBar": true,
   "skip_h1_title": false,
   "title_cell": "Table of Contents",
   "title_sidebar": "Contents",
   "toc_cell": false,
   "toc_position": {},
   "toc_section_display": true,
   "toc_window_display": false
  },
  "varInspector": {
   "cols": {
    "lenName": 16,
    "lenType": 16,
    "lenVar": 40
   },
   "kernels_config": {
    "python": {
     "delete_cmd_postfix": "",
     "delete_cmd_prefix": "del ",
     "library": "var_list.py",
     "varRefreshCmd": "print(var_dic_list())"
    },
    "r": {
     "delete_cmd_postfix": ") ",
     "delete_cmd_prefix": "rm(",
     "library": "var_list.r",
     "varRefreshCmd": "cat(var_dic_list()) "
    }
   },
   "types_to_exclude": [
    "module",
    "function",
    "builtin_function_or_method",
    "instance",
    "_Feature"
   ],
   "window_display": false
  }
 },
 "nbformat": 4,
 "nbformat_minor": 4
}
